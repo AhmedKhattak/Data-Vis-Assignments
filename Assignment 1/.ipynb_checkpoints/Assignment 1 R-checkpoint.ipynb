{
 "cells": [
  {
   "cell_type": "code",
   "execution_count": 1,
   "metadata": {},
   "outputs": [
    {
     "name": "stderr",
     "output_type": "stream",
     "text": [
      "Warning message:\n",
      "\"package 'tidyverse' was built under R version 3.5.2\"-- Attaching packages --------------------------------------- tidyverse 1.2.1 --\n",
      "v ggplot2 3.1.0       v purrr   0.3.0  \n",
      "v tibble  2.0.1       v dplyr   0.8.0.1\n",
      "v tidyr   0.8.2       v stringr 1.4.0  \n",
      "v readr   1.3.1       v forcats 0.4.0  \n",
      "Warning message:\n",
      "\"package 'ggplot2' was built under R version 3.5.2\"Warning message:\n",
      "\"package 'tibble' was built under R version 3.5.2\"Warning message:\n",
      "\"package 'tidyr' was built under R version 3.5.2\"Warning message:\n",
      "\"package 'readr' was built under R version 3.5.2\"Warning message:\n",
      "\"package 'purrr' was built under R version 3.5.2\"Warning message:\n",
      "\"package 'dplyr' was built under R version 3.5.2\"Warning message:\n",
      "\"package 'stringr' was built under R version 3.5.2\"Warning message:\n",
      "\"package 'forcats' was built under R version 3.5.2\"-- Conflicts ------------------------------------------ tidyverse_conflicts() --\n",
      "x dplyr::filter() masks stats::filter()\n",
      "x dplyr::lag()    masks stats::lag()\n"
     ]
    }
   ],
   "source": [
    "library(tidyverse)"
   ]
  },
  {
   "cell_type": "code",
   "execution_count": 3,
   "metadata": {},
   "outputs": [
    {
     "name": "stderr",
     "output_type": "stream",
     "text": [
      "Parsed with column specification:\n",
      "cols(\n",
      "  `sepal-length` = col_double(),\n",
      "  `sepal-width` = col_double(),\n",
      "  `petal-length` = col_double(),\n",
      "  `petal-width` = col_double(),\n",
      "  class = col_character()\n",
      ")\n",
      "Parsed with column specification:\n",
      "cols(\n",
      "  manufacturer = col_character(),\n",
      "  model = col_character(),\n",
      "  displ = col_double(),\n",
      "  year = col_double(),\n",
      "  cyl = col_double(),\n",
      "  trans = col_character(),\n",
      "  drv = col_character(),\n",
      "  cty = col_double(),\n",
      "  hwy = col_double(),\n",
      "  fl = col_character(),\n",
      "  class = col_character()\n",
      ")\n",
      "Parsed with column specification:\n",
      "cols(\n",
      "  carat = col_double(),\n",
      "  cut = col_character(),\n",
      "  color = col_character(),\n",
      "  clarity = col_character(),\n",
      "  depth = col_double(),\n",
      "  table = col_double(),\n",
      "  price = col_double(),\n",
      "  x = col_double(),\n",
      "  y = col_double(),\n",
      "  z = col_double()\n",
      ")\n"
     ]
    }
   ],
   "source": [
    "df1 = readr::read_csv(\"Datasets/iris.csv\")\n",
    "df2 = readr::read_csv(\"Datasets/mpg.csv\")\n",
    "df3 = readr::read_csv(\"Datasets/diamonds.csv\")"
   ]
  },
  {
   "cell_type": "code",
   "execution_count": 4,
   "metadata": {},
   "outputs": [
    {
     "data": {
      "text/html": [
       "<table>\n",
       "<thead><tr><th scope=col>sepal-length</th><th scope=col>sepal-width</th><th scope=col>petal-length</th><th scope=col>petal-width</th><th scope=col>class</th></tr></thead>\n",
       "<tbody>\n",
       "\t<tr><td>5.1        </td><td>3.5        </td><td>1.4        </td><td>0.2        </td><td>Iris-setosa</td></tr>\n",
       "\t<tr><td>4.9        </td><td>3.0        </td><td>1.4        </td><td>0.2        </td><td>Iris-setosa</td></tr>\n",
       "\t<tr><td>4.7        </td><td>3.2        </td><td>1.3        </td><td>0.2        </td><td>Iris-setosa</td></tr>\n",
       "\t<tr><td>4.6        </td><td>3.1        </td><td>1.5        </td><td>0.2        </td><td>Iris-setosa</td></tr>\n",
       "\t<tr><td>5.0        </td><td>3.6        </td><td>1.4        </td><td>0.2        </td><td>Iris-setosa</td></tr>\n",
       "\t<tr><td>5.4        </td><td>3.9        </td><td>1.7        </td><td>0.4        </td><td>Iris-setosa</td></tr>\n",
       "</tbody>\n",
       "</table>\n"
      ],
      "text/latex": [
       "\\begin{tabular}{r|lllll}\n",
       " sepal-length & sepal-width & petal-length & petal-width & class\\\\\n",
       "\\hline\n",
       "\t 5.1         & 3.5         & 1.4         & 0.2         & Iris-setosa\\\\\n",
       "\t 4.9         & 3.0         & 1.4         & 0.2         & Iris-setosa\\\\\n",
       "\t 4.7         & 3.2         & 1.3         & 0.2         & Iris-setosa\\\\\n",
       "\t 4.6         & 3.1         & 1.5         & 0.2         & Iris-setosa\\\\\n",
       "\t 5.0         & 3.6         & 1.4         & 0.2         & Iris-setosa\\\\\n",
       "\t 5.4         & 3.9         & 1.7         & 0.4         & Iris-setosa\\\\\n",
       "\\end{tabular}\n"
      ],
      "text/markdown": [
       "\n",
       "| sepal-length | sepal-width | petal-length | petal-width | class |\n",
       "|---|---|---|---|---|\n",
       "| 5.1         | 3.5         | 1.4         | 0.2         | Iris-setosa |\n",
       "| 4.9         | 3.0         | 1.4         | 0.2         | Iris-setosa |\n",
       "| 4.7         | 3.2         | 1.3         | 0.2         | Iris-setosa |\n",
       "| 4.6         | 3.1         | 1.5         | 0.2         | Iris-setosa |\n",
       "| 5.0         | 3.6         | 1.4         | 0.2         | Iris-setosa |\n",
       "| 5.4         | 3.9         | 1.7         | 0.4         | Iris-setosa |\n",
       "\n"
      ],
      "text/plain": [
       "  sepal-length sepal-width petal-length petal-width class      \n",
       "1 5.1          3.5         1.4          0.2         Iris-setosa\n",
       "2 4.9          3.0         1.4          0.2         Iris-setosa\n",
       "3 4.7          3.2         1.3          0.2         Iris-setosa\n",
       "4 4.6          3.1         1.5          0.2         Iris-setosa\n",
       "5 5.0          3.6         1.4          0.2         Iris-setosa\n",
       "6 5.4          3.9         1.7          0.4         Iris-setosa"
      ]
     },
     "metadata": {},
     "output_type": "display_data"
    }
   ],
   "source": [
    "head(df1)"
   ]
  },
  {
   "cell_type": "code",
   "execution_count": 7,
   "metadata": {},
   "outputs": [
    {
     "data": {
      "text/plain": [
       "  sepal-length    sepal-width     petal-length    petal-width   \n",
       " Min.   :4.300   Min.   :2.000   Min.   :1.000   Min.   :0.100  \n",
       " 1st Qu.:5.100   1st Qu.:2.800   1st Qu.:1.600   1st Qu.:0.300  \n",
       " Median :5.800   Median :3.000   Median :4.350   Median :1.300  \n",
       " Mean   :5.843   Mean   :3.054   Mean   :3.759   Mean   :1.199  \n",
       " 3rd Qu.:6.400   3rd Qu.:3.300   3rd Qu.:5.100   3rd Qu.:1.800  \n",
       " Max.   :7.900   Max.   :4.400   Max.   :6.900   Max.   :2.500  \n",
       "    class          \n",
       " Length:150        \n",
       " Class :character  \n",
       " Mode  :character  \n",
       "                   \n",
       "                   \n",
       "                   "
      ]
     },
     "metadata": {},
     "output_type": "display_data"
    }
   ],
   "source": [
    "summary(df1)"
   ]
  },
  {
   "cell_type": "code",
   "execution_count": 5,
   "metadata": {},
   "outputs": [
    {
     "data": {
      "text/html": [
       "<table>\n",
       "<thead><tr><th scope=col>manufacturer</th><th scope=col>model</th><th scope=col>displ</th><th scope=col>year</th><th scope=col>cyl</th><th scope=col>trans</th><th scope=col>drv</th><th scope=col>cty</th><th scope=col>hwy</th><th scope=col>fl</th><th scope=col>class</th></tr></thead>\n",
       "<tbody>\n",
       "\t<tr><td>audi      </td><td>a4        </td><td>1.8       </td><td>1999      </td><td>4         </td><td>auto(l5)  </td><td>f         </td><td>18        </td><td>29        </td><td>p         </td><td>compact   </td></tr>\n",
       "\t<tr><td>audi      </td><td>a4        </td><td>1.8       </td><td>1999      </td><td>4         </td><td>manual(m5)</td><td>f         </td><td>21        </td><td>29        </td><td>p         </td><td>compact   </td></tr>\n",
       "\t<tr><td>audi      </td><td>a4        </td><td>2.0       </td><td>2008      </td><td>4         </td><td>manual(m6)</td><td>f         </td><td>20        </td><td>31        </td><td>p         </td><td>compact   </td></tr>\n",
       "\t<tr><td>audi      </td><td>a4        </td><td>2.0       </td><td>2008      </td><td>4         </td><td>auto(av)  </td><td>f         </td><td>21        </td><td>30        </td><td>p         </td><td>compact   </td></tr>\n",
       "\t<tr><td>audi      </td><td>a4        </td><td>2.8       </td><td>1999      </td><td>6         </td><td>auto(l5)  </td><td>f         </td><td>16        </td><td>26        </td><td>p         </td><td>compact   </td></tr>\n",
       "\t<tr><td>audi      </td><td>a4        </td><td>2.8       </td><td>1999      </td><td>6         </td><td>manual(m5)</td><td>f         </td><td>18        </td><td>26        </td><td>p         </td><td>compact   </td></tr>\n",
       "</tbody>\n",
       "</table>\n"
      ],
      "text/latex": [
       "\\begin{tabular}{r|lllllllllll}\n",
       " manufacturer & model & displ & year & cyl & trans & drv & cty & hwy & fl & class\\\\\n",
       "\\hline\n",
       "\t audi       & a4         & 1.8        & 1999       & 4          & auto(l5)   & f          & 18         & 29         & p          & compact   \\\\\n",
       "\t audi       & a4         & 1.8        & 1999       & 4          & manual(m5) & f          & 21         & 29         & p          & compact   \\\\\n",
       "\t audi       & a4         & 2.0        & 2008       & 4          & manual(m6) & f          & 20         & 31         & p          & compact   \\\\\n",
       "\t audi       & a4         & 2.0        & 2008       & 4          & auto(av)   & f          & 21         & 30         & p          & compact   \\\\\n",
       "\t audi       & a4         & 2.8        & 1999       & 6          & auto(l5)   & f          & 16         & 26         & p          & compact   \\\\\n",
       "\t audi       & a4         & 2.8        & 1999       & 6          & manual(m5) & f          & 18         & 26         & p          & compact   \\\\\n",
       "\\end{tabular}\n"
      ],
      "text/markdown": [
       "\n",
       "| manufacturer | model | displ | year | cyl | trans | drv | cty | hwy | fl | class |\n",
       "|---|---|---|---|---|---|---|---|---|---|---|\n",
       "| audi       | a4         | 1.8        | 1999       | 4          | auto(l5)   | f          | 18         | 29         | p          | compact    |\n",
       "| audi       | a4         | 1.8        | 1999       | 4          | manual(m5) | f          | 21         | 29         | p          | compact    |\n",
       "| audi       | a4         | 2.0        | 2008       | 4          | manual(m6) | f          | 20         | 31         | p          | compact    |\n",
       "| audi       | a4         | 2.0        | 2008       | 4          | auto(av)   | f          | 21         | 30         | p          | compact    |\n",
       "| audi       | a4         | 2.8        | 1999       | 6          | auto(l5)   | f          | 16         | 26         | p          | compact    |\n",
       "| audi       | a4         | 2.8        | 1999       | 6          | manual(m5) | f          | 18         | 26         | p          | compact    |\n",
       "\n"
      ],
      "text/plain": [
       "  manufacturer model displ year cyl trans      drv cty hwy fl class  \n",
       "1 audi         a4    1.8   1999 4   auto(l5)   f   18  29  p  compact\n",
       "2 audi         a4    1.8   1999 4   manual(m5) f   21  29  p  compact\n",
       "3 audi         a4    2.0   2008 4   manual(m6) f   20  31  p  compact\n",
       "4 audi         a4    2.0   2008 4   auto(av)   f   21  30  p  compact\n",
       "5 audi         a4    2.8   1999 6   auto(l5)   f   16  26  p  compact\n",
       "6 audi         a4    2.8   1999 6   manual(m5) f   18  26  p  compact"
      ]
     },
     "metadata": {},
     "output_type": "display_data"
    }
   ],
   "source": [
    "head(df2)"
   ]
  },
  {
   "cell_type": "code",
   "execution_count": 8,
   "metadata": {},
   "outputs": [
    {
     "data": {
      "text/plain": [
       " manufacturer          model               displ            year     \n",
       " Length:234         Length:234         Min.   :1.600   Min.   :1999  \n",
       " Class :character   Class :character   1st Qu.:2.400   1st Qu.:1999  \n",
       " Mode  :character   Mode  :character   Median :3.300   Median :2004  \n",
       "                                       Mean   :3.472   Mean   :2004  \n",
       "                                       3rd Qu.:4.600   3rd Qu.:2008  \n",
       "                                       Max.   :7.000   Max.   :2008  \n",
       "      cyl           trans               drv                 cty       \n",
       " Min.   :4.000   Length:234         Length:234         Min.   : 9.00  \n",
       " 1st Qu.:4.000   Class :character   Class :character   1st Qu.:14.00  \n",
       " Median :6.000   Mode  :character   Mode  :character   Median :17.00  \n",
       " Mean   :5.889                                         Mean   :16.86  \n",
       " 3rd Qu.:8.000                                         3rd Qu.:19.00  \n",
       " Max.   :8.000                                         Max.   :35.00  \n",
       "      hwy             fl               class          \n",
       " Min.   :12.00   Length:234         Length:234        \n",
       " 1st Qu.:18.00   Class :character   Class :character  \n",
       " Median :24.00   Mode  :character   Mode  :character  \n",
       " Mean   :23.44                                        \n",
       " 3rd Qu.:27.00                                        \n",
       " Max.   :44.00                                        "
      ]
     },
     "metadata": {},
     "output_type": "display_data"
    }
   ],
   "source": [
    "summary(df2)"
   ]
  },
  {
   "cell_type": "code",
   "execution_count": 6,
   "metadata": {},
   "outputs": [
    {
     "data": {
      "text/html": [
       "<table>\n",
       "<thead><tr><th scope=col>carat</th><th scope=col>cut</th><th scope=col>color</th><th scope=col>clarity</th><th scope=col>depth</th><th scope=col>table</th><th scope=col>price</th><th scope=col>x</th><th scope=col>y</th><th scope=col>z</th></tr></thead>\n",
       "<tbody>\n",
       "\t<tr><td>0.23     </td><td>Ideal    </td><td>E        </td><td>SI2      </td><td>61.5     </td><td>55       </td><td>326      </td><td>3.95     </td><td>3.98     </td><td>2.43     </td></tr>\n",
       "\t<tr><td>0.21     </td><td>Premium  </td><td>E        </td><td>SI1      </td><td>59.8     </td><td>61       </td><td>326      </td><td>3.89     </td><td>3.84     </td><td>2.31     </td></tr>\n",
       "\t<tr><td>0.23     </td><td>Good     </td><td>E        </td><td>VS1      </td><td>56.9     </td><td>65       </td><td>327      </td><td>4.05     </td><td>4.07     </td><td>2.31     </td></tr>\n",
       "\t<tr><td>0.29     </td><td>Premium  </td><td>I        </td><td>VS2      </td><td>62.4     </td><td>58       </td><td>334      </td><td>4.20     </td><td>4.23     </td><td>2.63     </td></tr>\n",
       "\t<tr><td>0.31     </td><td>Good     </td><td>J        </td><td>SI2      </td><td>63.3     </td><td>58       </td><td>335      </td><td>4.34     </td><td>4.35     </td><td>2.75     </td></tr>\n",
       "\t<tr><td>0.24     </td><td>Very Good</td><td>J        </td><td>VVS2     </td><td>62.8     </td><td>57       </td><td>336      </td><td>3.94     </td><td>3.96     </td><td>2.48     </td></tr>\n",
       "</tbody>\n",
       "</table>\n"
      ],
      "text/latex": [
       "\\begin{tabular}{r|llllllllll}\n",
       " carat & cut & color & clarity & depth & table & price & x & y & z\\\\\n",
       "\\hline\n",
       "\t 0.23      & Ideal     & E         & SI2       & 61.5      & 55        & 326       & 3.95      & 3.98      & 2.43     \\\\\n",
       "\t 0.21      & Premium   & E         & SI1       & 59.8      & 61        & 326       & 3.89      & 3.84      & 2.31     \\\\\n",
       "\t 0.23      & Good      & E         & VS1       & 56.9      & 65        & 327       & 4.05      & 4.07      & 2.31     \\\\\n",
       "\t 0.29      & Premium   & I         & VS2       & 62.4      & 58        & 334       & 4.20      & 4.23      & 2.63     \\\\\n",
       "\t 0.31      & Good      & J         & SI2       & 63.3      & 58        & 335       & 4.34      & 4.35      & 2.75     \\\\\n",
       "\t 0.24      & Very Good & J         & VVS2      & 62.8      & 57        & 336       & 3.94      & 3.96      & 2.48     \\\\\n",
       "\\end{tabular}\n"
      ],
      "text/markdown": [
       "\n",
       "| carat | cut | color | clarity | depth | table | price | x | y | z |\n",
       "|---|---|---|---|---|---|---|---|---|---|\n",
       "| 0.23      | Ideal     | E         | SI2       | 61.5      | 55        | 326       | 3.95      | 3.98      | 2.43      |\n",
       "| 0.21      | Premium   | E         | SI1       | 59.8      | 61        | 326       | 3.89      | 3.84      | 2.31      |\n",
       "| 0.23      | Good      | E         | VS1       | 56.9      | 65        | 327       | 4.05      | 4.07      | 2.31      |\n",
       "| 0.29      | Premium   | I         | VS2       | 62.4      | 58        | 334       | 4.20      | 4.23      | 2.63      |\n",
       "| 0.31      | Good      | J         | SI2       | 63.3      | 58        | 335       | 4.34      | 4.35      | 2.75      |\n",
       "| 0.24      | Very Good | J         | VVS2      | 62.8      | 57        | 336       | 3.94      | 3.96      | 2.48      |\n",
       "\n"
      ],
      "text/plain": [
       "  carat cut       color clarity depth table price x    y    z   \n",
       "1 0.23  Ideal     E     SI2     61.5  55    326   3.95 3.98 2.43\n",
       "2 0.21  Premium   E     SI1     59.8  61    326   3.89 3.84 2.31\n",
       "3 0.23  Good      E     VS1     56.9  65    327   4.05 4.07 2.31\n",
       "4 0.29  Premium   I     VS2     62.4  58    334   4.20 4.23 2.63\n",
       "5 0.31  Good      J     SI2     63.3  58    335   4.34 4.35 2.75\n",
       "6 0.24  Very Good J     VVS2    62.8  57    336   3.94 3.96 2.48"
      ]
     },
     "metadata": {},
     "output_type": "display_data"
    }
   ],
   "source": [
    "head(df3)"
   ]
  },
  {
   "cell_type": "code",
   "execution_count": 9,
   "metadata": {},
   "outputs": [
    {
     "data": {
      "text/plain": [
       "     carat            cut               color             clarity         \n",
       " Min.   :0.2000   Length:53940       Length:53940       Length:53940      \n",
       " 1st Qu.:0.4000   Class :character   Class :character   Class :character  \n",
       " Median :0.7000   Mode  :character   Mode  :character   Mode  :character  \n",
       " Mean   :0.7979                                                           \n",
       " 3rd Qu.:1.0400                                                           \n",
       " Max.   :5.0100                                                           \n",
       "     depth           table           price             x         \n",
       " Min.   :43.00   Min.   :43.00   Min.   :  326   Min.   : 0.000  \n",
       " 1st Qu.:61.00   1st Qu.:56.00   1st Qu.:  950   1st Qu.: 4.710  \n",
       " Median :61.80   Median :57.00   Median : 2401   Median : 5.700  \n",
       " Mean   :61.75   Mean   :57.46   Mean   : 3933   Mean   : 5.731  \n",
       " 3rd Qu.:62.50   3rd Qu.:59.00   3rd Qu.: 5324   3rd Qu.: 6.540  \n",
       " Max.   :79.00   Max.   :95.00   Max.   :18823   Max.   :10.740  \n",
       "       y                z         \n",
       " Min.   : 0.000   Min.   : 0.000  \n",
       " 1st Qu.: 4.720   1st Qu.: 2.910  \n",
       " Median : 5.710   Median : 3.530  \n",
       " Mean   : 5.735   Mean   : 3.539  \n",
       " 3rd Qu.: 6.540   3rd Qu.: 4.040  \n",
       " Max.   :58.900   Max.   :31.800  "
      ]
     },
     "metadata": {},
     "output_type": "display_data"
    }
   ],
   "source": [
    "summary(df3)"
   ]
  },
  {
   "cell_type": "code",
   "execution_count": 12,
   "metadata": {},
   "outputs": [],
   "source": [
    "summarise_missing <- function(data,...) {\n",
    "  # Check early and exit if needed\n",
    "  if(is.na(data)) {\n",
    "    print(\"Data cannot be NA\")\n",
    "    return(data)\n",
    "  }\n",
    "\n",
    "  if(is.null(data)) {\n",
    "    print(\"Data cannot be  NULL\")\n",
    "    return(data)\n",
    "  }\n",
    "\n",
    "\n",
    "  if(!is.data.frame(data) | !is.tibble(data)) {\n",
    "    print(\"Data must me a dataframe or a tibble\")\n",
    "    return(NA)\n",
    "  }\n",
    "\n",
    "  res <- data %>%\n",
    "    summarise_all(funs(sum(is.na(.) | is.null(.) | . == \"\")))\n",
    "  m <- t(as.matrix(res))\n",
    "  m1 <- as_tibble(m, rownames = NA)\n",
    "  m1 <- rownames_to_column(m1)\n",
    "  m1 <- m1 %>% rename(missing_counts = V1, variables  = rowname) %>% arrange(desc(missing_counts))\n",
    "\n",
    "\n",
    "  return(m1)\n",
    "}"
   ]
  },
  {
   "cell_type": "code",
   "execution_count": 13,
   "metadata": {},
   "outputs": [
    {
     "name": "stderr",
     "output_type": "stream",
     "text": [
      "Warning message in if (is.na(data)) {:\n",
      "\"the condition has length > 1 and only the first element will be used\"Warning message:\n",
      "\"`as_tibble.matrix()` requires a matrix with column names or a `.name_repair` argument. Using compatibility `.name_repair`.\n",
      "This warning is displayed once per session.\""
     ]
    },
    {
     "data": {
      "text/html": [
       "<table>\n",
       "<thead><tr><th scope=col>variables</th><th scope=col>missing_counts</th></tr></thead>\n",
       "<tbody>\n",
       "\t<tr><td>sepal-length</td><td>0           </td></tr>\n",
       "\t<tr><td>sepal-width </td><td>0           </td></tr>\n",
       "\t<tr><td>petal-length</td><td>0           </td></tr>\n",
       "\t<tr><td>petal-width </td><td>0           </td></tr>\n",
       "\t<tr><td>class       </td><td>0           </td></tr>\n",
       "</tbody>\n",
       "</table>\n"
      ],
      "text/latex": [
       "\\begin{tabular}{r|ll}\n",
       " variables & missing\\_counts\\\\\n",
       "\\hline\n",
       "\t sepal-length & 0           \\\\\n",
       "\t sepal-width  & 0           \\\\\n",
       "\t petal-length & 0           \\\\\n",
       "\t petal-width  & 0           \\\\\n",
       "\t class        & 0           \\\\\n",
       "\\end{tabular}\n"
      ],
      "text/markdown": [
       "\n",
       "| variables | missing_counts |\n",
       "|---|---|\n",
       "| sepal-length | 0            |\n",
       "| sepal-width  | 0            |\n",
       "| petal-length | 0            |\n",
       "| petal-width  | 0            |\n",
       "| class        | 0            |\n",
       "\n"
      ],
      "text/plain": [
       "  variables    missing_counts\n",
       "1 sepal-length 0             \n",
       "2 sepal-width  0             \n",
       "3 petal-length 0             \n",
       "4 petal-width  0             \n",
       "5 class        0             "
      ]
     },
     "metadata": {},
     "output_type": "display_data"
    }
   ],
   "source": [
    "summarise_missing(data = df1)"
   ]
  },
  {
   "cell_type": "code",
   "execution_count": 14,
   "metadata": {},
   "outputs": [
    {
     "name": "stderr",
     "output_type": "stream",
     "text": [
      "Warning message in if (is.na(data)) {:\n",
      "\"the condition has length > 1 and only the first element will be used\""
     ]
    },
    {
     "data": {
      "text/html": [
       "<table>\n",
       "<thead><tr><th scope=col>variables</th><th scope=col>missing_counts</th></tr></thead>\n",
       "<tbody>\n",
       "\t<tr><td>carat  </td><td>0      </td></tr>\n",
       "\t<tr><td>cut    </td><td>0      </td></tr>\n",
       "\t<tr><td>color  </td><td>0      </td></tr>\n",
       "\t<tr><td>clarity</td><td>0      </td></tr>\n",
       "\t<tr><td>depth  </td><td>0      </td></tr>\n",
       "\t<tr><td>table  </td><td>0      </td></tr>\n",
       "\t<tr><td>price  </td><td>0      </td></tr>\n",
       "\t<tr><td>x      </td><td>0      </td></tr>\n",
       "\t<tr><td>y      </td><td>0      </td></tr>\n",
       "\t<tr><td>z      </td><td>0      </td></tr>\n",
       "</tbody>\n",
       "</table>\n"
      ],
      "text/latex": [
       "\\begin{tabular}{r|ll}\n",
       " variables & missing\\_counts\\\\\n",
       "\\hline\n",
       "\t carat   & 0      \\\\\n",
       "\t cut     & 0      \\\\\n",
       "\t color   & 0      \\\\\n",
       "\t clarity & 0      \\\\\n",
       "\t depth   & 0      \\\\\n",
       "\t table   & 0      \\\\\n",
       "\t price   & 0      \\\\\n",
       "\t x       & 0      \\\\\n",
       "\t y       & 0      \\\\\n",
       "\t z       & 0      \\\\\n",
       "\\end{tabular}\n"
      ],
      "text/markdown": [
       "\n",
       "| variables | missing_counts |\n",
       "|---|---|\n",
       "| carat   | 0       |\n",
       "| cut     | 0       |\n",
       "| color   | 0       |\n",
       "| clarity | 0       |\n",
       "| depth   | 0       |\n",
       "| table   | 0       |\n",
       "| price   | 0       |\n",
       "| x       | 0       |\n",
       "| y       | 0       |\n",
       "| z       | 0       |\n",
       "\n"
      ],
      "text/plain": [
       "   variables missing_counts\n",
       "1  carat     0             \n",
       "2  cut       0             \n",
       "3  color     0             \n",
       "4  clarity   0             \n",
       "5  depth     0             \n",
       "6  table     0             \n",
       "7  price     0             \n",
       "8  x         0             \n",
       "9  y         0             \n",
       "10 z         0             "
      ]
     },
     "metadata": {},
     "output_type": "display_data"
    }
   ],
   "source": [
    "summarise_missing(data = df3)"
   ]
  },
  {
   "cell_type": "code",
   "execution_count": 15,
   "metadata": {},
   "outputs": [
    {
     "name": "stderr",
     "output_type": "stream",
     "text": [
      "Warning message in if (is.na(data)) {:\n",
      "\"the condition has length > 1 and only the first element will be used\""
     ]
    },
    {
     "data": {
      "text/html": [
       "<table>\n",
       "<thead><tr><th scope=col>variables</th><th scope=col>missing_counts</th></tr></thead>\n",
       "<tbody>\n",
       "\t<tr><td>manufacturer</td><td>0           </td></tr>\n",
       "\t<tr><td>model       </td><td>0           </td></tr>\n",
       "\t<tr><td>displ       </td><td>0           </td></tr>\n",
       "\t<tr><td>year        </td><td>0           </td></tr>\n",
       "\t<tr><td>cyl         </td><td>0           </td></tr>\n",
       "\t<tr><td>trans       </td><td>0           </td></tr>\n",
       "\t<tr><td>drv         </td><td>0           </td></tr>\n",
       "\t<tr><td>cty         </td><td>0           </td></tr>\n",
       "\t<tr><td>hwy         </td><td>0           </td></tr>\n",
       "\t<tr><td>fl          </td><td>0           </td></tr>\n",
       "\t<tr><td>class       </td><td>0           </td></tr>\n",
       "</tbody>\n",
       "</table>\n"
      ],
      "text/latex": [
       "\\begin{tabular}{r|ll}\n",
       " variables & missing\\_counts\\\\\n",
       "\\hline\n",
       "\t manufacturer & 0           \\\\\n",
       "\t model        & 0           \\\\\n",
       "\t displ        & 0           \\\\\n",
       "\t year         & 0           \\\\\n",
       "\t cyl          & 0           \\\\\n",
       "\t trans        & 0           \\\\\n",
       "\t drv          & 0           \\\\\n",
       "\t cty          & 0           \\\\\n",
       "\t hwy          & 0           \\\\\n",
       "\t fl           & 0           \\\\\n",
       "\t class        & 0           \\\\\n",
       "\\end{tabular}\n"
      ],
      "text/markdown": [
       "\n",
       "| variables | missing_counts |\n",
       "|---|---|\n",
       "| manufacturer | 0            |\n",
       "| model        | 0            |\n",
       "| displ        | 0            |\n",
       "| year         | 0            |\n",
       "| cyl          | 0            |\n",
       "| trans        | 0            |\n",
       "| drv          | 0            |\n",
       "| cty          | 0            |\n",
       "| hwy          | 0            |\n",
       "| fl           | 0            |\n",
       "| class        | 0            |\n",
       "\n"
      ],
      "text/plain": [
       "   variables    missing_counts\n",
       "1  manufacturer 0             \n",
       "2  model        0             \n",
       "3  displ        0             \n",
       "4  year         0             \n",
       "5  cyl          0             \n",
       "6  trans        0             \n",
       "7  drv          0             \n",
       "8  cty          0             \n",
       "9  hwy          0             \n",
       "10 fl           0             \n",
       "11 class        0             "
      ]
     },
     "metadata": {},
     "output_type": "display_data"
    }
   ],
   "source": [
    "summarise_missing(data = df2)"
   ]
  },
  {
   "cell_type": "code",
   "execution_count": 19,
   "metadata": {},
   "outputs": [
    {
     "data": {
      "text/html": [
       "<table>\n",
       "<thead><tr><th scope=col>name</th><th scope=col>value</th></tr></thead>\n",
       "<tbody>\n",
       "\t<tr><td>manufacturer</td><td>0           </td></tr>\n",
       "\t<tr><td>model       </td><td>0           </td></tr>\n",
       "\t<tr><td>displ       </td><td>0           </td></tr>\n",
       "\t<tr><td>year        </td><td>0           </td></tr>\n",
       "\t<tr><td>cyl         </td><td>0           </td></tr>\n",
       "\t<tr><td>trans       </td><td>0           </td></tr>\n",
       "\t<tr><td>drv         </td><td>0           </td></tr>\n",
       "\t<tr><td>cty         </td><td>0           </td></tr>\n",
       "\t<tr><td>hwy         </td><td>0           </td></tr>\n",
       "\t<tr><td>fl          </td><td>0           </td></tr>\n",
       "\t<tr><td>class       </td><td>0           </td></tr>\n",
       "</tbody>\n",
       "</table>\n"
      ],
      "text/latex": [
       "\\begin{tabular}{r|ll}\n",
       " name & value\\\\\n",
       "\\hline\n",
       "\t manufacturer & 0           \\\\\n",
       "\t model        & 0           \\\\\n",
       "\t displ        & 0           \\\\\n",
       "\t year         & 0           \\\\\n",
       "\t cyl          & 0           \\\\\n",
       "\t trans        & 0           \\\\\n",
       "\t drv          & 0           \\\\\n",
       "\t cty          & 0           \\\\\n",
       "\t hwy          & 0           \\\\\n",
       "\t fl           & 0           \\\\\n",
       "\t class        & 0           \\\\\n",
       "\\end{tabular}\n"
      ],
      "text/markdown": [
       "\n",
       "| name | value |\n",
       "|---|---|\n",
       "| manufacturer | 0            |\n",
       "| model        | 0            |\n",
       "| displ        | 0            |\n",
       "| year         | 0            |\n",
       "| cyl          | 0            |\n",
       "| trans        | 0            |\n",
       "| drv          | 0            |\n",
       "| cty          | 0            |\n",
       "| hwy          | 0            |\n",
       "| fl           | 0            |\n",
       "| class        | 0            |\n",
       "\n"
      ],
      "text/plain": [
       "   name         value\n",
       "1  manufacturer 0    \n",
       "2  model        0    \n",
       "3  displ        0    \n",
       "4  year         0    \n",
       "5  cyl          0    \n",
       "6  trans        0    \n",
       "7  drv          0    \n",
       "8  cty          0    \n",
       "9  hwy          0    \n",
       "10 fl           0    \n",
       "11 class        0    "
      ]
     },
     "metadata": {},
     "output_type": "display_data"
    }
   ],
   "source": [
    "enframe(sapply(df2, function(x) sum(is.na(x))))"
   ]
  },
  {
   "cell_type": "code",
   "execution_count": 20,
   "metadata": {},
   "outputs": [
    {
     "data": {
      "text/html": [
       "<table>\n",
       "<thead><tr><th scope=col>manufacturer</th><th scope=col>model</th><th scope=col>displ</th><th scope=col>year</th><th scope=col>cyl</th><th scope=col>trans</th><th scope=col>drv</th><th scope=col>cty</th><th scope=col>hwy</th><th scope=col>fl</th><th scope=col>class</th></tr></thead>\n",
       "<tbody>\n",
       "\t<tr><td>0</td><td>0</td><td>0</td><td>0</td><td>0</td><td>0</td><td>0</td><td>0</td><td>0</td><td>0</td><td>0</td></tr>\n",
       "</tbody>\n",
       "</table>\n"
      ],
      "text/latex": [
       "\\begin{tabular}{r|lllllllllll}\n",
       " manufacturer & model & displ & year & cyl & trans & drv & cty & hwy & fl & class\\\\\n",
       "\\hline\n",
       "\t 0 & 0 & 0 & 0 & 0 & 0 & 0 & 0 & 0 & 0 & 0\\\\\n",
       "\\end{tabular}\n"
      ],
      "text/markdown": [
       "\n",
       "| manufacturer | model | displ | year | cyl | trans | drv | cty | hwy | fl | class |\n",
       "|---|---|---|---|---|---|---|---|---|---|---|\n",
       "| 0 | 0 | 0 | 0 | 0 | 0 | 0 | 0 | 0 | 0 | 0 |\n",
       "\n"
      ],
      "text/plain": [
       "  manufacturer model displ year cyl trans drv cty hwy fl class\n",
       "1 0            0     0     0    0   0     0   0   0   0  0    "
      ]
     },
     "metadata": {},
     "output_type": "display_data"
    }
   ],
   "source": [
    "map_df(df2, function(x) sum(is.na(x)))"
   ]
  }
 ],
 "metadata": {
  "kernelspec": {
   "display_name": "R",
   "language": "R",
   "name": "ir"
  },
  "language_info": {
   "codemirror_mode": "r",
   "file_extension": ".r",
   "mimetype": "text/x-r-source",
   "name": "R",
   "pygments_lexer": "r",
   "version": "3.5.1"
  }
 },
 "nbformat": 4,
 "nbformat_minor": 2
}
